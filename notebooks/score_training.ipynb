{
 "cells": [
  {
   "cell_type": "code",
   "execution_count": 1,
   "metadata": {
    "colab": {
     "base_uri": "https://localhost:8080/"
    },
    "executionInfo": {
     "elapsed": 14592,
     "status": "ok",
     "timestamp": 1739903829946,
     "user": {
      "displayName": "Liza Pavlova",
      "userId": "00412632503379369479"
     },
     "user_tz": 360
    },
    "id": "6GYfbyP2OmKl",
    "outputId": "a1164877-0db1-4950-89c4-52f64f1a4d2c"
   },
   "outputs": [
    {
     "name": "stdout",
     "output_type": "stream",
     "text": [
      "Mounted at /content/drive\n"
     ]
    }
   ],
   "source": [
    "from google.colab import drive\n",
    "drive.mount('/content/drive')"
   ]
  },
  {
   "cell_type": "code",
   "execution_count": 2,
   "metadata": {
    "executionInfo": {
     "elapsed": 104,
     "status": "ok",
     "timestamp": 1739903831505,
     "user": {
      "displayName": "Liza Pavlova",
      "userId": "00412632503379369479"
     },
     "user_tz": 360
    },
    "id": "pInG9Dm7OscN"
   },
   "outputs": [],
   "source": [
    "import os"
   ]
  },
  {
   "cell_type": "code",
   "execution_count": 3,
   "metadata": {
    "executionInfo": {
     "elapsed": 97,
     "status": "ok",
     "timestamp": 1739903832460,
     "user": {
      "displayName": "Liza Pavlova",
      "userId": "00412632503379369479"
     },
     "user_tz": 360
    },
    "id": "W7ygINQMOz0v"
   },
   "outputs": [],
   "source": [
    "working_dir = '/content/drive/My Drive/UT_Austin/Diffusion_Models_Testing/memorization_generalization_in_diffusion_models' #set"
   ]
  },
  {
   "cell_type": "code",
   "execution_count": 4,
   "metadata": {
    "executionInfo": {
     "elapsed": 293,
     "status": "ok",
     "timestamp": 1739903834116,
     "user": {
      "displayName": "Liza Pavlova",
      "userId": "00412632503379369479"
     },
     "user_tz": 360
    },
    "id": "d6mWo7NrO3-V"
   },
   "outputs": [],
   "source": [
    "os.chdir(working_dir)"
   ]
  },
  {
   "cell_type": "code",
   "execution_count": 6,
   "metadata": {
    "colab": {
     "base_uri": "https://localhost:8080/"
    },
    "executionInfo": {
     "elapsed": 106029,
     "status": "ok",
     "timestamp": 1739904104699,
     "user": {
      "displayName": "Liza Pavlova",
      "userId": "00412632503379369479"
     },
     "user_tz": 360
    },
    "id": "7QWaeIeTw3Ua",
    "outputId": "5b37e840-731b-4bd2-b1ba-0b874acbb2fc"
   },
   "outputs": [
    {
     "name": "stdout",
     "output_type": "stream",
     "text": [
      "/content/drive/MyDrive/UT_Austin/Diffusion_Models_Testing/memorization_generalization_in_diffusion_models/code/score-based/main.py:22: FutureWarning: You are using `torch.load` with `weights_only=False` (the current default value), which uses the default pickle module implicitly. It is possible to construct malicious pickle data which will execute arbitrary code during unpickling (See https://github.com/pytorch/pytorch/blob/main/SECURITY.md#untrusted-models for more details). In a future release, the default value for `weights_only` will be flipped to `True`. This limits the functions that could be executed during unpickling. Arbitrary objects will no longer be allowed to be loaded via this mode unless they are explicitly allowlisted by the user via `torch.serialization.add_safe_globals`. We recommend you start setting `weights_only=True` for any use case where you don't have full control of the loaded file. Please open an issue on GitHub for any issues related to this experimental feature.\n",
      "  data = torch.load(data_path)\n",
      "Loaded data shape: torch.Size([100000, 2])\n",
      "Number of parameters: 660354\n",
      "/content/drive/MyDrive/UT_Austin/Diffusion_Models_Testing/memorization_generalization_in_diffusion_models/code/score-based/trainer.py:28: UserWarning: To copy construct from a tensor, it is recommended to use sourceTensor.clone().detach() or sourceTensor.clone().detach().requires_grad_(True), rather than torch.tensor(sourceTensor).\n",
      "  t = torch.tensor(t, device=device)\n",
      "Epoch 0: Average Loss: 103.91934\n",
      "Epoch 1: Average Loss: 91.48548\n",
      "Epoch 2: Average Loss: 91.36732\n",
      "Epoch 3: Average Loss: 91.18720\n",
      "Epoch 4: Average Loss: 91.12145\n",
      "Epoch 5: Average Loss: 90.49853\n",
      "Epoch 6: Average Loss: 90.40539\n",
      "Epoch 7: Average Loss: 90.56430\n",
      "Epoch 8: Average Loss: 89.25908\n",
      "Epoch 9: Average Loss: 90.08529\n",
      "Saved checkpoint to score_models//gmm_score_model/gmm_new_2d/spiral_2/ckpt_10.pth\n",
      "Epoch 10: Average Loss: 90.12535\n",
      "Epoch 11: Average Loss: 89.25976\n",
      "Epoch 12: Average Loss: 90.75977\n",
      "Epoch 13: Average Loss: 89.50542\n",
      "Epoch 14: Average Loss: 89.59718\n",
      "Epoch 15: Average Loss: 89.56994\n",
      "Epoch 16: Average Loss: 90.69733\n",
      "Epoch 17: Average Loss: 89.85301\n",
      "Epoch 18: Average Loss: 89.38642\n",
      "Epoch 19: Average Loss: 90.04390\n",
      "Saved checkpoint to score_models//gmm_score_model/gmm_new_2d/spiral_2/ckpt_20.pth\n"
     ]
    }
   ],
   "source": [
    "!python code/score-based/main.py \\ #for colab\n",
    "    --data_dim 2 \\ #dims\n",
    "    --set_size 100000 \\ #always 100000 from created datasets\n",
    "    --data_name gmm_new_2d/spiral_2/ \\ #dataset name\n",
    "    --num_epochs 20"
   ]
  }
 ],
 "metadata": {
  "accelerator": "GPU",
  "colab": {
   "authorship_tag": "ABX9TyOl74ecb98fs7dZpQ2mLmHw",
   "gpuType": "A100",
   "provenance": []
  },
  "kernelspec": {
   "display_name": "Python 3",
   "name": "python3"
  },
  "language_info": {
   "name": "python"
  }
 },
 "nbformat": 4,
 "nbformat_minor": 0
}
